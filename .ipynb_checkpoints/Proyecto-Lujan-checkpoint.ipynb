{
 "cells": [
  {
   "cell_type": "markdown",
   "id": "24c26a42-0b67-49c9-bfbc-e5e6e4ab2dc7",
   "metadata": {},
   "source": [
    "## D - Importar las librerías necesarias"
   ]
  },
  {
   "cell_type": "code",
   "execution_count": 2,
   "id": "242ef688-90a4-4a14-9c90-c5b9bf06a5d4",
   "metadata": {},
   "outputs": [],
   "source": [
    "# import necessary libraries\n",
    "import pandas as pd\n",
    "import numpy\n",
    "import matplotlib.pyplot as plt\n",
    "from pyspark.sql import SparkSession\n"
   ]
  },
  {
   "cell_type": "code",
   "execution_count": 3,
   "id": "7ba0b9d4-39b7-4317-a590-fd226fd77cfa",
   "metadata": {},
   "outputs": [],
   "source": [
    "# create sparksession\n",
    "spark = SparkSession \\\n",
    ".builder \\\n",
    ".appName(\"Pysparkexample\") \\\n",
    ".config(\"spark.some.config.option\", \"some-value\") \\\n",
    ".getOrCreate()"
   ]
  },
  {
   "cell_type": "markdown",
   "id": "26aaa8fb-1a4a-4aea-b2d8-1602ce7fa933",
   "metadata": {},
   "source": [
    "## D - Importar el dataset \"BankChurners.csv\" y crear un Spark Dataframe"
   ]
  },
  {
   "cell_type": "code",
   "execution_count": 4,
   "id": "c5c4a83e-0bc4-446e-8f64-bde4947f74d9",
   "metadata": {},
   "outputs": [],
   "source": [
    "df = spark.read.csv('BankChurners.csv', header='true', inferSchema = True)"
   ]
  },
  {
   "cell_type": "markdown",
   "id": "322eecfa-5112-4b70-a1eb-08e2c601686d",
   "metadata": {},
   "source": [
    "## D - Obtener el número total de atributos del dataset"
   ]
  },
  {
   "cell_type": "code",
   "execution_count": 5,
   "id": "44f62354-5c04-4871-b617-06f81a22a030",
   "metadata": {},
   "outputs": [
    {
     "name": "stdout",
     "output_type": "stream",
     "text": [
      "root\n",
      " |-- CLIENTNUM: integer (nullable = true)\n",
      " |-- Attrition_Flag: string (nullable = true)\n",
      " |-- Customer_Age: integer (nullable = true)\n",
      " |-- Gender: string (nullable = true)\n",
      " |-- Dependent_count: integer (nullable = true)\n",
      " |-- Education_Level: string (nullable = true)\n",
      " |-- Marital_Status: string (nullable = true)\n",
      " |-- Income_Category: string (nullable = true)\n",
      " |-- Card_Category: string (nullable = true)\n",
      " |-- Months_on_book: integer (nullable = true)\n",
      " |-- Months_Inactive_12_mon: integer (nullable = true)\n",
      " |-- Contacts_Count_12_mon: integer (nullable = true)\n",
      " |-- Credit_Limit: double (nullable = true)\n",
      "\n"
     ]
    }
   ],
   "source": [
    "df.printSchema()"
   ]
  },
  {
   "cell_type": "markdown",
   "id": "49e2257e-84a8-4236-bd93-81f50ad5e1a2",
   "metadata": {},
   "source": [
    "## D - Obtener el número total de filas del dataset"
   ]
  },
  {
   "cell_type": "code",
   "execution_count": 6,
   "id": "8b1ecbc7-3cfa-4665-bd54-af94997f7593",
   "metadata": {},
   "outputs": [
    {
     "data": {
      "text/plain": [
       "10127"
      ]
     },
     "execution_count": 6,
     "metadata": {},
     "output_type": "execute_result"
    }
   ],
   "source": [
    "df.count()"
   ]
  },
  {
   "cell_type": "markdown",
   "id": "31c9bfa7-11fa-40bc-be28-11e8fa9009ea",
   "metadata": {},
   "source": [
    "### Muestra de la tabla"
   ]
  },
  {
   "cell_type": "code",
   "execution_count": 9,
   "id": "39036b26-d348-48f6-b34b-fc4b7b18862a",
   "metadata": {},
   "outputs": [
    {
     "name": "stdout",
     "output_type": "stream",
     "text": [
      "+---------+-----------------+------------+------+---------------+---------------+--------------+---------------+-------------+--------------+----------------------+---------------------+------------+\n",
      "|CLIENTNUM|   Attrition_Flag|Customer_Age|Gender|Dependent_count|Education_Level|Marital_Status|Income_Category|Card_Category|Months_on_book|Months_Inactive_12_mon|Contacts_Count_12_mon|Credit_Limit|\n",
      "+---------+-----------------+------------+------+---------------+---------------+--------------+---------------+-------------+--------------+----------------------+---------------------+------------+\n",
      "|768805383|Existing Customer|          45|     M|              3|    High School|       Married|    $60K - $80K|         Blue|            39|                     1|                    3|     12691.0|\n",
      "|818770008|Existing Customer|          49|     F|              5|       Graduate|        Single| Less than $40K|         Blue|            44|                     1|                    2|      8256.0|\n",
      "|713982108|Existing Customer|          51|     M|              3|       Graduate|       Married|   $80K - $120K|         Blue|            36|                     1|                    0|      3418.0|\n",
      "|769911858|Existing Customer|          40|     F|              4|    High School|       Unknown| Less than $40K|         Blue|            34|                     4|                    1|      3313.0|\n",
      "|709106358|Existing Customer|          40|     M|              3|     Uneducated|       Married|    $60K - $80K|         Blue|            21|                     1|                    0|      4716.0|\n",
      "+---------+-----------------+------------+------+---------------+---------------+--------------+---------------+-------------+--------------+----------------------+---------------------+------------+\n",
      "only showing top 5 rows\n",
      "\n"
     ]
    }
   ],
   "source": [
    "df.show(5)"
   ]
  },
  {
   "cell_type": "markdown",
   "id": "8ae864cf-7e18-434c-9bb5-2f2f181bbfd8",
   "metadata": {},
   "source": [
    "### Visualizamos las columnas con las que cuenta"
   ]
  },
  {
   "cell_type": "code",
   "execution_count": 8,
   "id": "aa417f2b-a554-448a-9cf4-81f2d5ba212a",
   "metadata": {},
   "outputs": [
    {
     "data": {
      "text/plain": [
       "['CLIENTNUM',\n",
       " 'Attrition_Flag',\n",
       " 'Customer_Age',\n",
       " 'Gender',\n",
       " 'Dependent_count',\n",
       " 'Education_Level',\n",
       " 'Marital_Status',\n",
       " 'Income_Category',\n",
       " 'Card_Category',\n",
       " 'Months_on_book',\n",
       " 'Months_Inactive_12_mon',\n",
       " 'Contacts_Count_12_mon',\n",
       " 'Credit_Limit']"
      ]
     },
     "execution_count": 8,
     "metadata": {},
     "output_type": "execute_result"
    }
   ],
   "source": [
    "df.columns"
   ]
  },
  {
   "cell_type": "code",
   "execution_count": 17,
   "id": "a62d637e-5e82-410a-b23f-c41da1a5576c",
   "metadata": {},
   "outputs": [
    {
     "data": {
      "text/plain": [
       "pyspark.sql.dataframe.DataFrame"
      ]
     },
     "execution_count": 17,
     "metadata": {},
     "output_type": "execute_result"
    }
   ],
   "source": [
    "type(df)"
   ]
  },
  {
   "cell_type": "markdown",
   "id": "727284bd-d034-4fdd-9ec2-63114bf03976",
   "metadata": {},
   "source": [
    "### Analizamos si alguna columna cuenta con valores nulos"
   ]
  },
  {
   "cell_type": "code",
   "execution_count": 24,
   "id": "ad562f48-85ab-4dba-8704-b22c8c6f50b3",
   "metadata": {},
   "outputs": [
    {
     "data": {
      "text/plain": [
       "0"
      ]
     },
     "execution_count": 24,
     "metadata": {},
     "output_type": "execute_result"
    }
   ],
   "source": [
    "df.filter(df.CLIENTNUM.isNull()).count()"
   ]
  },
  {
   "cell_type": "code",
   "execution_count": 25,
   "id": "65e3c422-c4ef-42ad-8d18-7b4dc9208194",
   "metadata": {},
   "outputs": [
    {
     "data": {
      "text/plain": [
       "0"
      ]
     },
     "execution_count": 25,
     "metadata": {},
     "output_type": "execute_result"
    }
   ],
   "source": [
    "df.filter(df.Attrition_Flag.isNull()).count()"
   ]
  },
  {
   "cell_type": "code",
   "execution_count": 27,
   "id": "fcea8fc5-074c-4f8f-bd71-0dff5dbaf4bb",
   "metadata": {},
   "outputs": [
    {
     "data": {
      "text/plain": [
       "0"
      ]
     },
     "execution_count": 27,
     "metadata": {},
     "output_type": "execute_result"
    }
   ],
   "source": [
    "df.filter(df.Customer_Age.isNull()).count()"
   ]
  },
  {
   "cell_type": "code",
   "execution_count": 28,
   "id": "44955e65-b554-48ff-8cce-e21fb817f3aa",
   "metadata": {},
   "outputs": [
    {
     "data": {
      "text/plain": [
       "0"
      ]
     },
     "execution_count": 28,
     "metadata": {},
     "output_type": "execute_result"
    }
   ],
   "source": [
    "df.filter(df.Gender.isNull()).count()"
   ]
  },
  {
   "cell_type": "code",
   "execution_count": 29,
   "id": "bfb079ca-15f0-4a83-adf7-bf7f4471793b",
   "metadata": {},
   "outputs": [
    {
     "data": {
      "text/plain": [
       "0"
      ]
     },
     "execution_count": 29,
     "metadata": {},
     "output_type": "execute_result"
    }
   ],
   "source": [
    "df.filter(df.Dependent_count.isNull()).count()"
   ]
  },
  {
   "cell_type": "code",
   "execution_count": 30,
   "id": "cf7d9900-bd39-48d4-9acd-ae4766d06fb0",
   "metadata": {},
   "outputs": [
    {
     "data": {
      "text/plain": [
       "0"
      ]
     },
     "execution_count": 30,
     "metadata": {},
     "output_type": "execute_result"
    }
   ],
   "source": [
    "df.filter(df.Education_Level.isNull()).count()"
   ]
  },
  {
   "cell_type": "code",
   "execution_count": 31,
   "id": "cc3b00b2-2aea-4f0a-9411-65b00c20c669",
   "metadata": {},
   "outputs": [
    {
     "data": {
      "text/plain": [
       "0"
      ]
     },
     "execution_count": 31,
     "metadata": {},
     "output_type": "execute_result"
    }
   ],
   "source": [
    "df.filter(df.Marital_Status.isNull()).count()"
   ]
  },
  {
   "cell_type": "code",
   "execution_count": 32,
   "id": "70fcce23-e532-4d5a-b330-62901b9c0160",
   "metadata": {},
   "outputs": [
    {
     "data": {
      "text/plain": [
       "0"
      ]
     },
     "execution_count": 32,
     "metadata": {},
     "output_type": "execute_result"
    }
   ],
   "source": [
    "df.filter(df.Income_Category.isNull()).count()"
   ]
  },
  {
   "cell_type": "code",
   "execution_count": 33,
   "id": "ee23b98b-a5ee-43de-a0aa-d30869c9dcf0",
   "metadata": {},
   "outputs": [
    {
     "data": {
      "text/plain": [
       "0"
      ]
     },
     "execution_count": 33,
     "metadata": {},
     "output_type": "execute_result"
    }
   ],
   "source": [
    "df.filter(df.Card_Category.isNull()).count()"
   ]
  },
  {
   "cell_type": "code",
   "execution_count": 34,
   "id": "0079555c-5f00-426d-97df-b6b43bd5c2b5",
   "metadata": {},
   "outputs": [
    {
     "data": {
      "text/plain": [
       "0"
      ]
     },
     "execution_count": 34,
     "metadata": {},
     "output_type": "execute_result"
    }
   ],
   "source": [
    "df.filter(df.Months_on_book.isNull()).count()"
   ]
  },
  {
   "cell_type": "code",
   "execution_count": 35,
   "id": "e2b7dda7-f25b-41d2-a9a1-db0a19da1212",
   "metadata": {},
   "outputs": [
    {
     "data": {
      "text/plain": [
       "0"
      ]
     },
     "execution_count": 35,
     "metadata": {},
     "output_type": "execute_result"
    }
   ],
   "source": [
    "df.filter(df.Months_Inactive_12_mon.isNull()).count()"
   ]
  },
  {
   "cell_type": "code",
   "execution_count": 36,
   "id": "ada807e2-eca6-4274-9b8a-96a16d1e46b8",
   "metadata": {},
   "outputs": [
    {
     "data": {
      "text/plain": [
       "0"
      ]
     },
     "execution_count": 36,
     "metadata": {},
     "output_type": "execute_result"
    }
   ],
   "source": [
    "df.filter(df.Contacts_Count_12_mon.isNull()).count()"
   ]
  },
  {
   "cell_type": "code",
   "execution_count": 37,
   "id": "626247d2-9843-4520-a358-4746275f8e11",
   "metadata": {},
   "outputs": [
    {
     "data": {
      "text/plain": [
       "0"
      ]
     },
     "execution_count": 37,
     "metadata": {},
     "output_type": "execute_result"
    }
   ],
   "source": [
    "df.filter(df.Credit_Limit.isNull()).count()"
   ]
  },
  {
   "cell_type": "code",
   "execution_count": null,
   "id": "921939ab-2f9e-4aa1-8c8e-3b834ead12a9",
   "metadata": {},
   "outputs": [],
   "source": []
  }
 ],
 "metadata": {
  "kernelspec": {
   "display_name": "Python 3 (ipykernel)",
   "language": "python",
   "name": "python3"
  },
  "language_info": {
   "codemirror_mode": {
    "name": "ipython",
    "version": 3
   },
   "file_extension": ".py",
   "mimetype": "text/x-python",
   "name": "python",
   "nbconvert_exporter": "python",
   "pygments_lexer": "ipython3",
   "version": "3.10.6"
  }
 },
 "nbformat": 4,
 "nbformat_minor": 5
}
