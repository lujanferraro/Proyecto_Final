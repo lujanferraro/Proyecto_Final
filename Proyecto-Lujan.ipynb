{
 "cells": [
  {
   "cell_type": "markdown",
   "id": "24c26a42-0b67-49c9-bfbc-e5e6e4ab2dc7",
   "metadata": {},
   "source": [
    "## D - Importar las librerías necesarias"
   ]
  },
  {
   "cell_type": "code",
   "execution_count": 1,
   "id": "242ef688-90a4-4a14-9c90-c5b9bf06a5d4",
   "metadata": {},
   "outputs": [],
   "source": [
    "# import necessary libraries\n",
    "import pandas as pd\n",
    "import numpy\n",
    "import matplotlib.pyplot as plt\n",
    "from pyspark.sql import SparkSession\n"
   ]
  },
  {
   "cell_type": "code",
   "execution_count": 2,
   "id": "7ba0b9d4-39b7-4317-a590-fd226fd77cfa",
   "metadata": {},
   "outputs": [],
   "source": [
    "# create sparksession\n",
    "spark = SparkSession \\\n",
    ".builder \\\n",
    ".appName(\"Pysparkexample\") \\\n",
    ".config(\"spark.some.config.option\", \"some-value\") \\\n",
    ".getOrCreate()"
   ]
  },
  {
   "cell_type": "markdown",
   "id": "26aaa8fb-1a4a-4aea-b2d8-1602ce7fa933",
   "metadata": {},
   "source": [
    "## D - Importar el dataset \"BankChurners.csv\" y crear un Spark Dataframe"
   ]
  },
  {
   "cell_type": "code",
   "execution_count": 3,
   "id": "c5c4a83e-0bc4-446e-8f64-bde4947f74d9",
   "metadata": {},
   "outputs": [],
   "source": [
    "df = spark.read.csv('BankChurners.csv', header='true', inferSchema = True)"
   ]
  },
  {
   "cell_type": "markdown",
   "id": "322eecfa-5112-4b70-a1eb-08e2c601686d",
   "metadata": {},
   "source": [
    "## D - Obtener el número total de atributos del dataset"
   ]
  },
  {
   "cell_type": "code",
   "execution_count": 4,
   "id": "44f62354-5c04-4871-b617-06f81a22a030",
   "metadata": {},
   "outputs": [
    {
     "name": "stdout",
     "output_type": "stream",
     "text": [
      "root\n",
      " |-- CLIENTNUM: integer (nullable = true)\n",
      " |-- Attrition_Flag: string (nullable = true)\n",
      " |-- Customer_Age: integer (nullable = true)\n",
      " |-- Gender: string (nullable = true)\n",
      " |-- Dependent_count: integer (nullable = true)\n",
      " |-- Education_Level: string (nullable = true)\n",
      " |-- Marital_Status: string (nullable = true)\n",
      " |-- Income_Category: string (nullable = true)\n",
      " |-- Card_Category: string (nullable = true)\n",
      " |-- Months_on_book: integer (nullable = true)\n",
      " |-- Months_Inactive_12_mon: integer (nullable = true)\n",
      " |-- Contacts_Count_12_mon: integer (nullable = true)\n",
      " |-- Credit_Limit: double (nullable = true)\n",
      "\n"
     ]
    }
   ],
   "source": [
    "df.printSchema()"
   ]
  },
  {
   "cell_type": "markdown",
   "id": "49e2257e-84a8-4236-bd93-81f50ad5e1a2",
   "metadata": {},
   "source": [
    "## D - Obtener el número total de filas del dataset"
   ]
  },
  {
   "cell_type": "code",
   "execution_count": 5,
   "id": "8b1ecbc7-3cfa-4665-bd54-af94997f7593",
   "metadata": {},
   "outputs": [
    {
     "data": {
      "text/plain": [
       "10127"
      ]
     },
     "execution_count": 5,
     "metadata": {},
     "output_type": "execute_result"
    }
   ],
   "source": [
    "df.count()"
   ]
  },
  {
   "cell_type": "markdown",
   "id": "31c9bfa7-11fa-40bc-be28-11e8fa9009ea",
   "metadata": {},
   "source": [
    "### Muestra de la tabla"
   ]
  },
  {
   "cell_type": "code",
   "execution_count": 6,
   "id": "39036b26-d348-48f6-b34b-fc4b7b18862a",
   "metadata": {},
   "outputs": [
    {
     "name": "stdout",
     "output_type": "stream",
     "text": [
      "+---------+-----------------+------------+------+---------------+---------------+--------------+---------------+-------------+--------------+----------------------+---------------------+------------+\n",
      "|CLIENTNUM|   Attrition_Flag|Customer_Age|Gender|Dependent_count|Education_Level|Marital_Status|Income_Category|Card_Category|Months_on_book|Months_Inactive_12_mon|Contacts_Count_12_mon|Credit_Limit|\n",
      "+---------+-----------------+------------+------+---------------+---------------+--------------+---------------+-------------+--------------+----------------------+---------------------+------------+\n",
      "|768805383|Existing Customer|          45|     M|              3|    High School|       Married|    $60K - $80K|         Blue|            39|                     1|                    3|     12691.0|\n",
      "|818770008|Existing Customer|          49|     F|              5|       Graduate|        Single| Less than $40K|         Blue|            44|                     1|                    2|      8256.0|\n",
      "|713982108|Existing Customer|          51|     M|              3|       Graduate|       Married|   $80K - $120K|         Blue|            36|                     1|                    0|      3418.0|\n",
      "|769911858|Existing Customer|          40|     F|              4|    High School|       Unknown| Less than $40K|         Blue|            34|                     4|                    1|      3313.0|\n",
      "|709106358|Existing Customer|          40|     M|              3|     Uneducated|       Married|    $60K - $80K|         Blue|            21|                     1|                    0|      4716.0|\n",
      "+---------+-----------------+------------+------+---------------+---------------+--------------+---------------+-------------+--------------+----------------------+---------------------+------------+\n",
      "only showing top 5 rows\n",
      "\n"
     ]
    }
   ],
   "source": [
    "df.show(5)"
   ]
  },
  {
   "cell_type": "markdown",
   "id": "8ae864cf-7e18-434c-9bb5-2f2f181bbfd8",
   "metadata": {},
   "source": [
    "### Visualizamos las columnas con las que cuenta"
   ]
  },
  {
   "cell_type": "code",
   "execution_count": 7,
   "id": "aa417f2b-a554-448a-9cf4-81f2d5ba212a",
   "metadata": {},
   "outputs": [
    {
     "data": {
      "text/plain": [
       "['CLIENTNUM',\n",
       " 'Attrition_Flag',\n",
       " 'Customer_Age',\n",
       " 'Gender',\n",
       " 'Dependent_count',\n",
       " 'Education_Level',\n",
       " 'Marital_Status',\n",
       " 'Income_Category',\n",
       " 'Card_Category',\n",
       " 'Months_on_book',\n",
       " 'Months_Inactive_12_mon',\n",
       " 'Contacts_Count_12_mon',\n",
       " 'Credit_Limit']"
      ]
     },
     "execution_count": 7,
     "metadata": {},
     "output_type": "execute_result"
    }
   ],
   "source": [
    "df.columns"
   ]
  },
  {
   "cell_type": "code",
   "execution_count": 8,
   "id": "a62d637e-5e82-410a-b23f-c41da1a5576c",
   "metadata": {},
   "outputs": [
    {
     "data": {
      "text/plain": [
       "pyspark.sql.dataframe.DataFrame"
      ]
     },
     "execution_count": 8,
     "metadata": {},
     "output_type": "execute_result"
    }
   ],
   "source": [
    "type(df)"
   ]
  },
  {
   "cell_type": "markdown",
   "id": "727284bd-d034-4fdd-9ec2-63114bf03976",
   "metadata": {},
   "source": [
    "### Analizamos si alguna columna cuenta con valores nulos"
   ]
  },
  {
   "cell_type": "code",
   "execution_count": 9,
   "id": "ad562f48-85ab-4dba-8704-b22c8c6f50b3",
   "metadata": {},
   "outputs": [
    {
     "data": {
      "text/plain": [
       "0"
      ]
     },
     "execution_count": 9,
     "metadata": {},
     "output_type": "execute_result"
    }
   ],
   "source": [
    "df.filter(df.CLIENTNUM.isNull()).count()"
   ]
  },
  {
   "cell_type": "code",
   "execution_count": 10,
   "id": "65e3c422-c4ef-42ad-8d18-7b4dc9208194",
   "metadata": {},
   "outputs": [
    {
     "data": {
      "text/plain": [
       "0"
      ]
     },
     "execution_count": 10,
     "metadata": {},
     "output_type": "execute_result"
    }
   ],
   "source": [
    "df.filter(df.Attrition_Flag.isNull()).count()"
   ]
  },
  {
   "cell_type": "code",
   "execution_count": 11,
   "id": "fcea8fc5-074c-4f8f-bd71-0dff5dbaf4bb",
   "metadata": {},
   "outputs": [
    {
     "data": {
      "text/plain": [
       "0"
      ]
     },
     "execution_count": 11,
     "metadata": {},
     "output_type": "execute_result"
    }
   ],
   "source": [
    "df.filter(df.Customer_Age.isNull()).count()"
   ]
  },
  {
   "cell_type": "code",
   "execution_count": 12,
   "id": "44955e65-b554-48ff-8cce-e21fb817f3aa",
   "metadata": {},
   "outputs": [
    {
     "data": {
      "text/plain": [
       "0"
      ]
     },
     "execution_count": 12,
     "metadata": {},
     "output_type": "execute_result"
    }
   ],
   "source": [
    "df.filter(df.Gender.isNull()).count()"
   ]
  },
  {
   "cell_type": "code",
   "execution_count": 13,
   "id": "bfb079ca-15f0-4a83-adf7-bf7f4471793b",
   "metadata": {},
   "outputs": [
    {
     "data": {
      "text/plain": [
       "0"
      ]
     },
     "execution_count": 13,
     "metadata": {},
     "output_type": "execute_result"
    }
   ],
   "source": [
    "df.filter(df.Dependent_count.isNull()).count()"
   ]
  },
  {
   "cell_type": "code",
   "execution_count": 14,
   "id": "cf7d9900-bd39-48d4-9acd-ae4766d06fb0",
   "metadata": {},
   "outputs": [
    {
     "data": {
      "text/plain": [
       "0"
      ]
     },
     "execution_count": 14,
     "metadata": {},
     "output_type": "execute_result"
    }
   ],
   "source": [
    "df.filter(df.Education_Level.isNull()).count()"
   ]
  },
  {
   "cell_type": "code",
   "execution_count": 15,
   "id": "cc3b00b2-2aea-4f0a-9411-65b00c20c669",
   "metadata": {},
   "outputs": [
    {
     "data": {
      "text/plain": [
       "0"
      ]
     },
     "execution_count": 15,
     "metadata": {},
     "output_type": "execute_result"
    }
   ],
   "source": [
    "df.filter(df.Marital_Status.isNull()).count()"
   ]
  },
  {
   "cell_type": "code",
   "execution_count": 16,
   "id": "70fcce23-e532-4d5a-b330-62901b9c0160",
   "metadata": {},
   "outputs": [
    {
     "data": {
      "text/plain": [
       "0"
      ]
     },
     "execution_count": 16,
     "metadata": {},
     "output_type": "execute_result"
    }
   ],
   "source": [
    "df.filter(df.Income_Category.isNull()).count()"
   ]
  },
  {
   "cell_type": "code",
   "execution_count": 17,
   "id": "ee23b98b-a5ee-43de-a0aa-d30869c9dcf0",
   "metadata": {},
   "outputs": [
    {
     "data": {
      "text/plain": [
       "0"
      ]
     },
     "execution_count": 17,
     "metadata": {},
     "output_type": "execute_result"
    }
   ],
   "source": [
    "df.filter(df.Card_Category.isNull()).count()"
   ]
  },
  {
   "cell_type": "code",
   "execution_count": 18,
   "id": "0079555c-5f00-426d-97df-b6b43bd5c2b5",
   "metadata": {},
   "outputs": [
    {
     "data": {
      "text/plain": [
       "0"
      ]
     },
     "execution_count": 18,
     "metadata": {},
     "output_type": "execute_result"
    }
   ],
   "source": [
    "df.filter(df.Months_on_book.isNull()).count()"
   ]
  },
  {
   "cell_type": "code",
   "execution_count": 19,
   "id": "e2b7dda7-f25b-41d2-a9a1-db0a19da1212",
   "metadata": {},
   "outputs": [
    {
     "data": {
      "text/plain": [
       "0"
      ]
     },
     "execution_count": 19,
     "metadata": {},
     "output_type": "execute_result"
    }
   ],
   "source": [
    "df.filter(df.Months_Inactive_12_mon.isNull()).count()"
   ]
  },
  {
   "cell_type": "code",
   "execution_count": 20,
   "id": "ada807e2-eca6-4274-9b8a-96a16d1e46b8",
   "metadata": {},
   "outputs": [
    {
     "data": {
      "text/plain": [
       "0"
      ]
     },
     "execution_count": 20,
     "metadata": {},
     "output_type": "execute_result"
    }
   ],
   "source": [
    "df.filter(df.Contacts_Count_12_mon.isNull()).count()"
   ]
  },
  {
   "cell_type": "code",
   "execution_count": 21,
   "id": "626247d2-9843-4520-a358-4746275f8e11",
   "metadata": {},
   "outputs": [
    {
     "data": {
      "text/plain": [
       "0"
      ]
     },
     "execution_count": 21,
     "metadata": {},
     "output_type": "execute_result"
    }
   ],
   "source": [
    "df.filter(df.Credit_Limit.isNull()).count()"
   ]
  },
  {
   "cell_type": "markdown",
   "id": "c606d0a3-d739-4bc1-aceb-6f928f583d91",
   "metadata": {},
   "source": [
    "## visualizar las primeras 100 filas del dataset"
   ]
  },
  {
   "cell_type": "code",
   "execution_count": 22,
   "id": "48f613a6-bc4c-45e8-abdd-0c337cd8e370",
   "metadata": {},
   "outputs": [],
   "source": [
    "df.createOrReplaceTempView(\"bankChurn\")"
   ]
  },
  {
   "cell_type": "code",
   "execution_count": 23,
   "id": "bbcd2994-8c57-4750-a30e-9702d36c74ac",
   "metadata": {},
   "outputs": [
    {
     "name": "stdout",
     "output_type": "stream",
     "text": [
      "+---------+-----------------+------------+------+---------------+---------------+--------------+---------------+-------------+--------------+----------------------+---------------------+------------+\n",
      "|CLIENTNUM|   Attrition_Flag|Customer_Age|Gender|Dependent_count|Education_Level|Marital_Status|Income_Category|Card_Category|Months_on_book|Months_Inactive_12_mon|Contacts_Count_12_mon|Credit_Limit|\n",
      "+---------+-----------------+------------+------+---------------+---------------+--------------+---------------+-------------+--------------+----------------------+---------------------+------------+\n",
      "|768805383|Existing Customer|          45|     M|              3|    High School|       Married|    $60K - $80K|         Blue|            39|                     1|                    3|     12691.0|\n",
      "|818770008|Existing Customer|          49|     F|              5|       Graduate|        Single| Less than $40K|         Blue|            44|                     1|                    2|      8256.0|\n",
      "|713982108|Existing Customer|          51|     M|              3|       Graduate|       Married|   $80K - $120K|         Blue|            36|                     1|                    0|      3418.0|\n",
      "|769911858|Existing Customer|          40|     F|              4|    High School|       Unknown| Less than $40K|         Blue|            34|                     4|                    1|      3313.0|\n",
      "|709106358|Existing Customer|          40|     M|              3|     Uneducated|       Married|    $60K - $80K|         Blue|            21|                     1|                    0|      4716.0|\n",
      "|713061558|Existing Customer|          44|     M|              2|       Graduate|       Married|    $40K - $60K|         Blue|            36|                     1|                    2|      4010.0|\n",
      "|810347208|Existing Customer|          51|     M|              4|        Unknown|       Married|        $120K +|         Gold|            46|                     1|                    3|     34516.0|\n",
      "|818906208|Existing Customer|          32|     M|              0|    High School|       Unknown|    $60K - $80K|       Silver|            27|                     2|                    2|     29081.0|\n",
      "|710930508|Existing Customer|          37|     M|              3|     Uneducated|        Single|    $60K - $80K|         Blue|            36|                     2|                    0|     22352.0|\n",
      "|719661558|Existing Customer|          48|     M|              2|       Graduate|        Single|   $80K - $120K|         Blue|            36|                     3|                    3|     11656.0|\n",
      "|708790833|Existing Customer|          42|     M|              5|     Uneducated|       Unknown|        $120K +|         Blue|            31|                     3|                    2|      6748.0|\n",
      "|710821833|Existing Customer|          65|     M|              1|        Unknown|       Married|    $40K - $60K|         Blue|            54|                     2|                    3|      9095.0|\n",
      "|710599683|Existing Customer|          56|     M|              1|        College|        Single|   $80K - $120K|         Blue|            36|                     6|                    0|     11751.0|\n",
      "|816082233|Existing Customer|          35|     M|              3|       Graduate|       Unknown|    $60K - $80K|         Blue|            30|                     1|                    3|      8547.0|\n",
      "|712396908|Existing Customer|          57|     F|              2|       Graduate|       Married| Less than $40K|         Blue|            48|                     2|                    2|      2436.0|\n",
      "|714885258|Existing Customer|          44|     M|              4|        Unknown|       Unknown|   $80K - $120K|         Blue|            37|                     1|                    2|      4234.0|\n",
      "|709967358|Existing Customer|          48|     M|              4|  Post-Graduate|        Single|   $80K - $120K|         Blue|            36|                     2|                    3|     30367.0|\n",
      "|753327333|Existing Customer|          41|     M|              3|        Unknown|       Married|   $80K - $120K|         Blue|            34|                     4|                    1|     13535.0|\n",
      "|806160108|Existing Customer|          61|     M|              1|    High School|       Married|    $40K - $60K|         Blue|            56|                     2|                    3|      3193.0|\n",
      "|709327383|Existing Customer|          45|     F|              2|       Graduate|       Married|        Unknown|         Blue|            37|                     1|                    2|     14470.0|\n",
      "+---------+-----------------+------------+------+---------------+---------------+--------------+---------------+-------------+--------------+----------------------+---------------------+------------+\n",
      "only showing top 20 rows\n",
      "\n"
     ]
    }
   ],
   "source": [
    "spark.sql(\"SELECT * FROM bankChurn LIMIT 100\").show()"
   ]
  },
  {
   "cell_type": "markdown",
   "id": "b760abbb-45fa-4457-ad93-ad2d81094403",
   "metadata": {},
   "source": [
    "## visualizar el dataset utilizando un método descriptivo"
   ]
  },
  {
   "cell_type": "markdown",
   "id": "4035df28-28b3-4a45-bbac-2d8f9b7af488",
   "metadata": {},
   "source": [
    "#### cantidad de registros que tiene cada variable"
   ]
  },
  {
   "cell_type": "code",
   "execution_count": 29,
   "id": "cedca9f8-1560-4309-8203-60005842aaab",
   "metadata": {},
   "outputs": [
    {
     "name": "stdout",
     "output_type": "stream",
     "text": [
      "+-----------------+--------+\n",
      "|   Attrition_Flag|count(1)|\n",
      "+-----------------+--------+\n",
      "|Existing Customer|    8500|\n",
      "|Attrited Customer|    1627|\n",
      "+-----------------+--------+\n",
      "\n"
     ]
    }
   ],
   "source": [
    "spark.sql(\"SELECT Attrition_Flag, count(*) FROM bankChurn group by Attrition_Flag\").show()"
   ]
  },
  {
   "cell_type": "code",
   "execution_count": 32,
   "id": "5ed4a369-622c-4533-83a6-92a7e6d26e04",
   "metadata": {},
   "outputs": [
    {
     "name": "stdout",
     "output_type": "stream",
     "text": [
      "+------------+--------+\n",
      "|Customer_Age|count(1)|\n",
      "+------------+--------+\n",
      "|          26|      78|\n",
      "|          27|      32|\n",
      "|          28|      29|\n",
      "|          29|      56|\n",
      "|          30|      70|\n",
      "|          31|      91|\n",
      "|          32|     106|\n",
      "|          33|     127|\n",
      "|          34|     146|\n",
      "|          35|     184|\n",
      "|          36|     221|\n",
      "|          37|     260|\n",
      "|          38|     303|\n",
      "|          39|     333|\n",
      "|          40|     361|\n",
      "|          41|     379|\n",
      "|          42|     426|\n",
      "|          43|     473|\n",
      "|          44|     500|\n",
      "|          45|     486|\n",
      "+------------+--------+\n",
      "only showing top 20 rows\n",
      "\n"
     ]
    }
   ],
   "source": [
    "spark.sql(\"SELECT Customer_Age, count(*) FROM bankChurn GROUP BY Customer_Age ORDER BY Customer_Age\").show()"
   ]
  },
  {
   "cell_type": "code",
   "execution_count": 33,
   "id": "4f714e84-84ea-4a54-b5c4-53a0e0602107",
   "metadata": {},
   "outputs": [
    {
     "name": "stdout",
     "output_type": "stream",
     "text": [
      "+------+--------+\n",
      "|Gender|count(1)|\n",
      "+------+--------+\n",
      "|     F|    5358|\n",
      "|     M|    4769|\n",
      "+------+--------+\n",
      "\n"
     ]
    }
   ],
   "source": [
    "spark.sql(\"SELECT Gender, count(*) FROM bankChurn GROUP BY Gender\").show()"
   ]
  },
  {
   "cell_type": "code",
   "execution_count": 34,
   "id": "cdee1aed-7603-43e4-b1ff-ff5b8653d5e2",
   "metadata": {},
   "outputs": [
    {
     "name": "stdout",
     "output_type": "stream",
     "text": [
      "+---------------+--------+\n",
      "|Dependent_count|count(1)|\n",
      "+---------------+--------+\n",
      "|              0|     904|\n",
      "|              1|    1838|\n",
      "|              2|    2655|\n",
      "|              3|    2732|\n",
      "|              4|    1574|\n",
      "|              5|     424|\n",
      "+---------------+--------+\n",
      "\n"
     ]
    }
   ],
   "source": [
    "spark.sql(\"SELECT Dependent_count, count(*) FROM bankChurn GROUP BY Dependent_count ORDER BY Dependent_count\").show()"
   ]
  },
  {
   "cell_type": "code",
   "execution_count": 35,
   "id": "d98e18f4-e857-4a51-b2fe-37c9cc79101c",
   "metadata": {},
   "outputs": [
    {
     "name": "stdout",
     "output_type": "stream",
     "text": [
      "+---------------+--------+\n",
      "|Education_Level|count(1)|\n",
      "+---------------+--------+\n",
      "|    High School|    2013|\n",
      "|        Unknown|    1519|\n",
      "|     Uneducated|    1487|\n",
      "|  Post-Graduate|     516|\n",
      "|      Doctorate|     451|\n",
      "|       Graduate|    3128|\n",
      "|        College|    1013|\n",
      "+---------------+--------+\n",
      "\n"
     ]
    }
   ],
   "source": [
    "spark.sql(\"SELECT Education_Level, count(*) FROM bankChurn GROUP BY Education_Level\").show()"
   ]
  },
  {
   "cell_type": "code",
   "execution_count": 36,
   "id": "99432581-eab4-43d8-a6cf-01b507528e6d",
   "metadata": {},
   "outputs": [
    {
     "name": "stdout",
     "output_type": "stream",
     "text": [
      "+--------------+--------+\n",
      "|Marital_Status|count(1)|\n",
      "+--------------+--------+\n",
      "|       Unknown|     749|\n",
      "|       Married|    4687|\n",
      "|      Divorced|     748|\n",
      "|        Single|    3943|\n",
      "+--------------+--------+\n",
      "\n"
     ]
    }
   ],
   "source": [
    "spark.sql(\"SELECT Marital_Status, count(*) FROM bankChurn GROUP BY Marital_Status\").show()"
   ]
  },
  {
   "cell_type": "code",
   "execution_count": 38,
   "id": "a343aef5-6f31-46be-b0bc-78f5233ca01c",
   "metadata": {},
   "outputs": [
    {
     "name": "stdout",
     "output_type": "stream",
     "text": [
      "+---------------+--------+\n",
      "|Income_Category|count(1)|\n",
      "+---------------+--------+\n",
      "|        $120K +|     727|\n",
      "|    $60K - $80K|    1402|\n",
      "|   $80K - $120K|    1535|\n",
      "|        Unknown|    1112|\n",
      "|    $40K - $60K|    1790|\n",
      "| Less than $40K|    3561|\n",
      "+---------------+--------+\n",
      "\n"
     ]
    }
   ],
   "source": [
    "spark.sql(\"SELECT Income_Category, count(*) FROM bankChurn GROUP BY Income_Category\").show()"
   ]
  },
  {
   "cell_type": "code",
   "execution_count": 40,
   "id": "0ea1f337-f86d-443e-8d1d-dff73a74d06d",
   "metadata": {},
   "outputs": [
    {
     "name": "stdout",
     "output_type": "stream",
     "text": [
      "+-------------+--------+\n",
      "|Card_Category|count(1)|\n",
      "+-------------+--------+\n",
      "|     Platinum|      20|\n",
      "|       Silver|     555|\n",
      "|         Blue|    9436|\n",
      "|         Gold|     116|\n",
      "+-------------+--------+\n",
      "\n"
     ]
    }
   ],
   "source": [
    "spark.sql(\"SELECT Card_Category, count(*) FROM bankChurn GROUP BY Card_Category\").show()"
   ]
  },
  {
   "cell_type": "code",
   "execution_count": 41,
   "id": "1772ee27-5af6-4036-b8c0-5e3deb66def8",
   "metadata": {},
   "outputs": [
    {
     "name": "stdout",
     "output_type": "stream",
     "text": [
      "+--------------+--------+\n",
      "|Months_on_book|count(1)|\n",
      "+--------------+--------+\n",
      "|            13|      70|\n",
      "|            14|      16|\n",
      "|            15|      34|\n",
      "|            16|      29|\n",
      "|            17|      39|\n",
      "|            18|      58|\n",
      "|            19|      63|\n",
      "|            20|      74|\n",
      "|            21|      83|\n",
      "|            22|     105|\n",
      "|            23|     116|\n",
      "|            24|     160|\n",
      "|            25|     165|\n",
      "|            26|     186|\n",
      "|            27|     206|\n",
      "|            28|     275|\n",
      "|            29|     241|\n",
      "|            30|     300|\n",
      "|            31|     318|\n",
      "|            32|     289|\n",
      "+--------------+--------+\n",
      "only showing top 20 rows\n",
      "\n"
     ]
    }
   ],
   "source": [
    "spark.sql(\"SELECT Months_on_book, count(*) FROM bankChurn GROUP BY Months_on_book ORDER BY Months_on_book\").show()"
   ]
  },
  {
   "cell_type": "code",
   "execution_count": 42,
   "id": "33ae9db4-016d-41d7-b80b-af53ecf9ff6f",
   "metadata": {},
   "outputs": [
    {
     "name": "stdout",
     "output_type": "stream",
     "text": [
      "+----------------------+--------+\n",
      "|Months_Inactive_12_mon|count(1)|\n",
      "+----------------------+--------+\n",
      "|                     0|      29|\n",
      "|                     1|    2233|\n",
      "|                     2|    3282|\n",
      "|                     3|    3846|\n",
      "|                     4|     435|\n",
      "|                     5|     178|\n",
      "|                     6|     124|\n",
      "+----------------------+--------+\n",
      "\n"
     ]
    }
   ],
   "source": [
    "spark.sql(\"SELECT Months_Inactive_12_mon, count(*) FROM bankChurn GROUP BY Months_Inactive_12_mon ORDER BY Months_Inactive_12_mon\").show()"
   ]
  },
  {
   "cell_type": "code",
   "execution_count": 43,
   "id": "903fd263-8402-425d-bec6-f80ea4efca83",
   "metadata": {},
   "outputs": [
    {
     "name": "stdout",
     "output_type": "stream",
     "text": [
      "+---------------------+--------+\n",
      "|Contacts_Count_12_mon|count(1)|\n",
      "+---------------------+--------+\n",
      "|                    0|     399|\n",
      "|                    1|    1499|\n",
      "|                    2|    3227|\n",
      "|                    3|    3380|\n",
      "|                    4|    1392|\n",
      "|                    5|     176|\n",
      "|                    6|      54|\n",
      "+---------------------+--------+\n",
      "\n"
     ]
    }
   ],
   "source": [
    "spark.sql(\"SELECT Contacts_Count_12_mon, count(*) FROM bankChurn GROUP BY Contacts_Count_12_mon ORDER BY Contacts_Count_12_mon\").show()"
   ]
  },
  {
   "cell_type": "code",
   "execution_count": 51,
   "id": "2cc5d802-1758-46fb-8043-69bdb0f609c8",
   "metadata": {},
   "outputs": [
    {
     "name": "stdout",
     "output_type": "stream",
     "text": [
      "+------------+--------+\n",
      "|Credit_Limit|count(1)|\n",
      "+------------+--------+\n",
      "|     34516.0|     508|\n",
      "|      1438.3|     507|\n",
      "|     15987.0|      18|\n",
      "|      9959.0|      18|\n",
      "|     23981.0|      12|\n",
      "|      3735.0|      11|\n",
      "|      6224.0|      11|\n",
      "|      2490.0|      11|\n",
      "|      7469.0|      10|\n",
      "|      2069.0|       8|\n",
      "+------------+--------+\n",
      "\n"
     ]
    }
   ],
   "source": [
    "spark.sql(\"SELECT Credit_Limit, COUNT(*) FROM bankChurn GROUP BY Credit_Limit ORDER BY COUNT(*) DESC LIMIT 10\").show()\n"
   ]
  },
  {
   "cell_type": "markdown",
   "id": "a601e1cc-f7aa-4d51-a1d3-38af2d88905e",
   "metadata": {
    "tags": []
   },
   "source": [
    "## seleccionar las 5 primeras columnas usando sintaxis de python, aplicando un filtro por el atributo Marital_Status = Married"
   ]
  },
  {
   "cell_type": "code",
   "execution_count": 24,
   "id": "b8ddcb32-df34-4585-a610-bd0902f07f16",
   "metadata": {},
   "outputs": [
    {
     "name": "stdout",
     "output_type": "stream",
     "text": [
      "+---------+-----------------+------------+------+---------------+---------------+--------------+---------------+-------------+--------------+----------------------+---------------------+------------+\n",
      "|CLIENTNUM|   Attrition_Flag|Customer_Age|Gender|Dependent_count|Education_Level|Marital_Status|Income_Category|Card_Category|Months_on_book|Months_Inactive_12_mon|Contacts_Count_12_mon|Credit_Limit|\n",
      "+---------+-----------------+------------+------+---------------+---------------+--------------+---------------+-------------+--------------+----------------------+---------------------+------------+\n",
      "|768805383|Existing Customer|          45|     M|              3|    High School|       Married|    $60K - $80K|         Blue|            39|                     1|                    3|     12691.0|\n",
      "|713982108|Existing Customer|          51|     M|              3|       Graduate|       Married|   $80K - $120K|         Blue|            36|                     1|                    0|      3418.0|\n",
      "|709106358|Existing Customer|          40|     M|              3|     Uneducated|       Married|    $60K - $80K|         Blue|            21|                     1|                    0|      4716.0|\n",
      "|713061558|Existing Customer|          44|     M|              2|       Graduate|       Married|    $40K - $60K|         Blue|            36|                     1|                    2|      4010.0|\n",
      "|810347208|Existing Customer|          51|     M|              4|        Unknown|       Married|        $120K +|         Gold|            46|                     1|                    3|     34516.0|\n",
      "|710821833|Existing Customer|          65|     M|              1|        Unknown|       Married|    $40K - $60K|         Blue|            54|                     2|                    3|      9095.0|\n",
      "|712396908|Existing Customer|          57|     F|              2|       Graduate|       Married| Less than $40K|         Blue|            48|                     2|                    2|      2436.0|\n",
      "|753327333|Existing Customer|          41|     M|              3|        Unknown|       Married|   $80K - $120K|         Blue|            34|                     4|                    1|     13535.0|\n",
      "|806160108|Existing Customer|          61|     M|              1|    High School|       Married|    $40K - $60K|         Blue|            56|                     2|                    3|      3193.0|\n",
      "|709327383|Existing Customer|          45|     F|              2|       Graduate|       Married|        Unknown|         Blue|            37|                     1|                    2|     14470.0|\n",
      "|708508758|Attrited Customer|          62|     F|              0|       Graduate|       Married| Less than $40K|         Blue|            49|                     3|                    3|      1438.3|\n",
      "|784725333|Existing Customer|          41|     M|              3|    High School|       Married|    $40K - $60K|         Blue|            33|                     2|                    1|      4470.0|\n",
      "|789124683|Existing Customer|          54|     M|              2|        Unknown|       Married|   $80K - $120K|         Blue|            42|                     2|                    3|     12217.0|\n",
      "|804424383|Existing Customer|          63|     M|              1|        Unknown|       Married|    $60K - $80K|         Blue|            56|                     3|                    2|     10215.0|\n",
      "|806624208|Existing Customer|          47|     M|              4|    High School|       Married|    $40K - $60K|         Blue|            42|                     0|                    0|      4785.0|\n",
      "|778348233|Existing Customer|          53|     M|              3|        Unknown|       Married|   $80K - $120K|         Blue|            33|                     2|                    3|      2753.0|\n",
      "|712991808|Existing Customer|          53|     M|              2|     Uneducated|       Married|    $60K - $80K|         Blue|            48|                     5|                    1|      2451.0|\n",
      "|709029408|Existing Customer|          41|     M|              4|       Graduate|       Married|    $60K - $80K|         Blue|            36|                     1|                    2|      8923.0|\n",
      "|788658483|Existing Customer|          53|     F|              2|        College|       Married| Less than $40K|         Blue|            38|                     2|                    3|      2650.0|\n",
      "|787937058|Existing Customer|          58|     M|              0|       Graduate|       Married|   $80K - $120K|         Blue|            49|                     2|                    2|     12555.0|\n",
      "+---------+-----------------+------------+------+---------------+---------------+--------------+---------------+-------------+--------------+----------------------+---------------------+------------+\n",
      "only showing top 20 rows\n",
      "\n"
     ]
    }
   ],
   "source": [
    "df_filtrado = df.filter(df.Marital_Status == 'Married').show()"
   ]
  }
 ],
 "metadata": {
  "kernelspec": {
   "display_name": "Python 3 (ipykernel)",
   "language": "python",
   "name": "python3"
  },
  "language_info": {
   "codemirror_mode": {
    "name": "ipython",
    "version": 3
   },
   "file_extension": ".py",
   "mimetype": "text/x-python",
   "name": "python",
   "nbconvert_exporter": "python",
   "pygments_lexer": "ipython3",
   "version": "3.10.6"
  }
 },
 "nbformat": 4,
 "nbformat_minor": 5
}
